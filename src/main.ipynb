{
 "cells": [
  {
   "cell_type": "code",
   "execution_count": 2,
   "metadata": {},
   "outputs": [],
   "source": [
    "import yfinance as yf\n",
    "import pandas as pd\n",
    "import numpy as np\n",
    "from scipy.optimize import minimize"
   ]
  },
  {
   "cell_type": "code",
   "execution_count": 5,
   "metadata": {},
   "outputs": [
    {
     "name": "stderr",
     "output_type": "stream",
     "text": [
      "[*********************100%%**********************]  1 of 1 completed"
     ]
    },
    {
     "name": "stderr",
     "output_type": "stream",
     "text": [
      "\n",
      "[*********************100%%**********************]  1 of 1 completed\n",
      "[*********************100%%**********************]  1 of 1 completed"
     ]
    },
    {
     "name": "stdout",
     "output_type": "stream",
     "text": [
      "                 Open       High        Low      Close  Adj Close     Volume  \\\n",
      "Date                                                                           \n",
      "2020-01-02  74.059998  75.150002  73.797501  75.087502  73.059425  135480400   \n",
      "2020-01-03  74.287498  75.144997  74.125000  74.357498  72.349136  146322800   \n",
      "2020-01-06  73.447502  74.989998  73.187500  74.949997  72.925636  118387200   \n",
      "2020-01-07  74.959999  75.224998  74.370003  74.597504  72.582649  108872000   \n",
      "2020-01-08  74.290001  76.110001  74.290001  75.797501  73.750259  132079200   \n",
      "\n",
      "           Ticker  \n",
      "Date               \n",
      "2020-01-02   AAPL  \n",
      "2020-01-03   AAPL  \n",
      "2020-01-06   AAPL  \n",
      "2020-01-07   AAPL  \n",
      "2020-01-08   AAPL  \n"
     ]
    },
    {
     "name": "stderr",
     "output_type": "stream",
     "text": [
      "\n"
     ]
    }
   ],
   "source": [
    "def get_historical_data(tickers, start_date, end_date):\n",
    "    \"\"\"\n",
    "    Retrieve historical stock prices for a list of tickers.\n",
    "    \n",
    "    Args:\n",
    "    - tickers (list): List of stock tickers (e.g., [\"AAPL\", \"MSFT\"]).\n",
    "    - start_date (str): Start date in the format \"YYYY-MM-DD\".\n",
    "    - end_date (str): End date in the format \"YYYY-MM-DD\".\n",
    "    \n",
    "    Returns:\n",
    "    - DataFrame: DataFrame containing historical stock prices for the specified tickers and date range.\n",
    "    \"\"\"\n",
    "    # Create an empty list to store the historical dataframes\n",
    "    historical_data = []\n",
    "    \n",
    "    # Iterate over each ticker and fetch historical data\n",
    "    for ticker in tickers:\n",
    "        # Fetch historical data from Yahoo Finance\n",
    "        stock_data = yf.download(ticker, start=start_date, end=end_date)\n",
    "        \n",
    "        # Add a column to identify the stock ticker\n",
    "        stock_data[\"Ticker\"] = ticker\n",
    "        \n",
    "        # Append the data to the historical_data list\n",
    "        historical_data.append(stock_data)\n",
    "    \n",
    "    # Concatenate the dataframes in the list into a single dataframe\n",
    "    combined_data = pd.concat(historical_data)\n",
    "    \n",
    "    return combined_data\n",
    "\n",
    "# Example usage\n",
    "tickers = [\"AAPL\", \"MSFT\", \"MGC=F\"]\n",
    "start_date = \"2020-01-01\"\n",
    "end_date = \"2021-01-01\"\n",
    "historical_prices = get_historical_data(tickers, start_date, end_date)\n",
    "\n",
    "# Display the first few rows of the DataFrame\n",
    "print(historical_prices.head())\n",
    "\n"
   ]
  },
  {
   "cell_type": "code",
   "execution_count": 2,
   "metadata": {},
   "outputs": [
    {
     "name": "stderr",
     "output_type": "stream",
     "text": [
      "c:\\Users\\willb\\AppData\\Local\\Programs\\Python\\Python311\\Lib\\site-packages\\yfinance\\utils.py:775: FutureWarning: The 'unit' keyword in TimedeltaIndex construction is deprecated and will be removed in a future version. Use pd.to_timedelta instead.\n",
      "  df.index += _pd.TimedeltaIndex(dst_error_hours, 'h')\n",
      "c:\\Users\\willb\\AppData\\Local\\Programs\\Python\\Python311\\Lib\\site-packages\\yfinance\\utils.py:775: FutureWarning: The 'unit' keyword in TimedeltaIndex construction is deprecated and will be removed in a future version. Use pd.to_timedelta instead.\n",
      "  df.index += _pd.TimedeltaIndex(dst_error_hours, 'h')\n",
      "c:\\Users\\willb\\AppData\\Local\\Programs\\Python\\Python311\\Lib\\site-packages\\yfinance\\utils.py:775: FutureWarning: The 'unit' keyword in TimedeltaIndex construction is deprecated and will be removed in a future version. Use pd.to_timedelta instead.\n",
      "  df.index += _pd.TimedeltaIndex(dst_error_hours, 'h')\n",
      "[*********************100%%**********************]  3 of 3 completed"
     ]
    },
    {
     "name": "stdout",
     "output_type": "stream",
     "text": [
      "Optimal Weights (without target return): {'AAPL': 6.25964416140483e-18, 'MSFT': 0.4850532051136973, 'GOOGL': 0.5149467948863027}\n",
      "Optimal Weights (with target return): {'AAPL': 0.9999999999999997, 'MSFT': 5.399326818977812e-17, 'GOOGL': 3.365363543395006e-16}\n"
     ]
    },
    {
     "name": "stderr",
     "output_type": "stream",
     "text": [
      "\n"
     ]
    }
   ],
   "source": [
    "class Portfolio:\n",
    "    def __init__(self, tickers, start_date, end_date, initial_weights=None):\n",
    "        \"\"\"\n",
    "        Initialize a portfolio with given assets and weights.\n",
    "        \n",
    "        Args:\n",
    "        - tickers (list): List of stock tickers (e.g., [\"AAPL\", \"MSFT\"]).\n",
    "        - start_date (str): Start date in the format \"YYYY-MM-DD\".\n",
    "        - end_date (str): End date in the format \"YYYY-MM-DD\".\n",
    "        - initial_weights (dict, optional): Initial weights for each asset (default: equal weights).\n",
    "        \"\"\"\n",
    "        self.tickers = tickers\n",
    "        self.start_date = start_date\n",
    "        self.end_date = end_date\n",
    "        \n",
    "        # Initialize portfolio weights\n",
    "        if initial_weights is None:\n",
    "            self.weights = {ticker: 1/len(tickers) for ticker in tickers}\n",
    "        else:\n",
    "            self.weights = initial_weights\n",
    "        \n",
    "        # Retrieve historical data\n",
    "        self.historical_data = self._retrieve_historical_data()\n",
    "        \n",
    "        # Calculate daily returns\n",
    "        self.daily_returns = self._calculate_daily_returns()\n",
    "        \n",
    "        # Calculate portfolio value\n",
    "        self.portfolio_value = self._calculate_portfolio_value()\n",
    "        \n",
    "        # Calculate portfolio statistics\n",
    "        self.statistics = self._calculate_statistics()\n",
    "    \n",
    "    def _retrieve_historical_data(self):\n",
    "        \"\"\"Retrieve historical stock prices for the portfolio assets.\"\"\"\n",
    "        # Fetch historical data for the tickers\n",
    "        data = yf.download(self.tickers, start=self.start_date, end=self.end_date)\n",
    "        \n",
    "        # Drop any NaN values\n",
    "        data.dropna(inplace=True)\n",
    "        \n",
    "        # Return the DataFrame\n",
    "        return data\n",
    "    \n",
    "    def _calculate_daily_returns(self):\n",
    "        \"\"\"Calculate daily returns for each asset.\"\"\"\n",
    "        # Calculate daily percentage change in prices\n",
    "        daily_returns = self.historical_data['Adj Close'].pct_change()\n",
    "\n",
    "        # Drop any NaN values\n",
    "        self.historical_data.dropna(inplace=True)\n",
    "        \n",
    "        return daily_returns\n",
    "    \n",
    "    def _calculate_portfolio_value(self):\n",
    "        \"\"\"Calculate the portfolio value over time based on historical data and weights.\"\"\"\n",
    "        # Calculate daily portfolio values\n",
    "        daily_portfolio_values = (self.historical_data['Adj Close'] * pd.Series(self.weights)).sum(axis=1)\n",
    "        \n",
    "        return daily_portfolio_values\n",
    "    \n",
    "    def _calculate_statistics(self):\n",
    "        \"\"\"Calculate portfolio statistics such as total return, volatility, and Sharpe ratio.\"\"\"\n",
    "        # Calculate total return\n",
    "        total_return = (self.portfolio_value.iloc[-1] / self.portfolio_value.iloc[0]) - 1\n",
    "        \n",
    "        # Calculate annualized volatility (standard deviation of daily returns)\n",
    "        annualized_volatility = self.daily_returns.std() * np.sqrt(252)\n",
    "        \n",
    "        # Calculate annualized Sharpe ratio\n",
    "        risk_free_rate = 0.02  # Example risk-free rate\n",
    "        excess_returns = self.daily_returns - risk_free_rate / 252\n",
    "        annualized_sharpe_ratio = excess_returns.mean() / excess_returns.std() * np.sqrt(252)\n",
    "        \n",
    "        statistics = {\n",
    "            \"Total Return\": total_return,\n",
    "            \"Annualized Volatility\": annualized_volatility,\n",
    "            \"Annualized Sharpe Ratio\": annualized_sharpe_ratio\n",
    "        }\n",
    "        \n",
    "        return statistics\n",
    "\n",
    "    def mean_variance_optimization(self, target_return=None):\n",
    "        \"\"\"Perform mean-variance optimization to find optimal portfolio weights.\"\"\"\n",
    "        # Define objective function\n",
    "        def objective(weights):\n",
    "            portfolio_return = (self.daily_returns * weights).sum(axis=1).mean() * 252\n",
    "            portfolio_volatility = np.sqrt(np.dot(weights.T, np.dot(self.daily_returns.cov() * 252, weights)))\n",
    "            if target_return is None:\n",
    "                return -portfolio_return / portfolio_volatility  # Minimize negative Sharpe ratio\n",
    "            else:\n",
    "                return (portfolio_return - target_return) ** 2  # Minimize deviation from target return\n",
    "        \n",
    "        # Define constraints\n",
    "        constraints = ({'type': 'eq', 'fun': lambda weights: np.sum(weights) - 1})\n",
    "        \n",
    "        # Define bounds (optional)\n",
    "        bounds = [(0, 1) for _ in range(len(self.tickers))]  # Bounds for weights between 0 and 1\n",
    "        \n",
    "        # Initial guess (optional)\n",
    "        if self.weights is not None:\n",
    "            initial_guess = list(self.weights.values())\n",
    "        else:\n",
    "            initial_guess = [1/len(self.tickers) for _ in range(len(self.tickers))]\n",
    "        \n",
    "        # Perform optimization\n",
    "        result = minimize(objective, initial_guess, method='SLSQP', constraints=constraints, bounds=bounds)\n",
    "        \n",
    "        if result.success:\n",
    "            optimal_weights = {ticker: weight for ticker, weight in zip(self.tickers, result.x)}\n",
    "            return optimal_weights\n",
    "        else:\n",
    "            raise ValueError(\"Optimization failed.\")\n",
    "\n",
    "tickers = [\"AAPL\", \"MSFT\", \"GOOGL\"]\n",
    "start_date = \"2021-01-01\"\n",
    "end_date = \"2022-01-01\"\n",
    "portfolio = Portfolio(tickers, start_date, end_date)\n",
    "\n",
    "# Perform mean-variance optimization without specifying target return\n",
    "optimal_weights = portfolio.mean_variance_optimization()\n",
    "print(\"Optimal Weights (without target return):\", optimal_weights)\n",
    "\n",
    "# Perform mean-variance optimization with a target return\n",
    "target_return = 0.1  # Example target return (10%)\n",
    "optimal_weights_target = portfolio.mean_variance_optimization(target_return=target_return)\n",
    "print(\"Optimal Weights (with target return):\", optimal_weights_target)\n"
   ]
  },
  {
   "cell_type": "code",
   "execution_count": 9,
   "metadata": {},
   "outputs": [
    {
     "ename": "NameError",
     "evalue": "name 'portfolio' is not defined",
     "output_type": "error",
     "traceback": [
      "\u001b[1;31m---------------------------------------------------------------------------\u001b[0m",
      "\u001b[1;31mNameError\u001b[0m                                 Traceback (most recent call last)",
      "Cell \u001b[1;32mIn[9], line 1\u001b[0m\n\u001b[1;32m----> 1\u001b[0m \u001b[43mportfolio\u001b[49m\u001b[38;5;241m.\u001b[39mtickers\n",
      "\u001b[1;31mNameError\u001b[0m: name 'portfolio' is not defined"
     ]
    }
   ],
   "source": [
    "portfolio.tickers"
   ]
  }
 ],
 "metadata": {
  "kernelspec": {
   "display_name": "Python 3",
   "language": "python",
   "name": "python3"
  },
  "language_info": {
   "codemirror_mode": {
    "name": "ipython",
    "version": 3
   },
   "file_extension": ".py",
   "mimetype": "text/x-python",
   "name": "python",
   "nbconvert_exporter": "python",
   "pygments_lexer": "ipython3",
   "version": "3.11.1"
  }
 },
 "nbformat": 4,
 "nbformat_minor": 2
}
